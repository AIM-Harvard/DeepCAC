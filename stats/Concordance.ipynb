{
 "cells": [
  {
   "cell_type": "code",
   "execution_count": 1,
   "metadata": {},
   "outputs": [],
   "source": [
    "%matplotlib inline\n",
    "import csv\n",
    "import numpy as np\n",
    "import matplotlib\n",
    "import matplotlib.pyplot as plt\n",
    "from sklearn.metrics import cohen_kappa_score"
   ]
  },
  {
   "cell_type": "code",
   "execution_count": 2,
   "metadata": {},
   "outputs": [],
   "source": [
    "results_file = 'Results_NLST.csv'\n",
    "zmap = matplotlib.colors.LinearSegmentedColormap.from_list(\n",
    "    \"\", [\"#FFFFFF\", \"#4ba5ff\", \"#0054d9\"], 300)"
   ]
  },
  {
   "cell_type": "code",
   "execution_count": 3,
   "metadata": {},
   "outputs": [],
   "source": [
    "# Read results\n",
    "cac_list = []\n",
    "with open(results_file) as csv_pointer:\n",
    "    csv_reader = csv.reader(csv_pointer, delimiter=',')\n",
    "    for row in csv_reader:\n",
    "        if row[0] == 'PID': #Skip header\n",
    "            continue\n",
    "        cac_list.append([row[0], float(row[1]), float(row[2])])"
   ]
  },
  {
   "cell_type": "code",
   "execution_count": 4,
   "metadata": {
    "scrolled": true
   },
   "outputs": [],
   "source": [
    "# Calculate stratified CAC scores\n",
    "class_list = []\n",
    "for cac in cac_list:\n",
    "    class_1 = cac[1]\n",
    "    if 0 < class_1 <= 100: class_1 = 1\n",
    "    if 100 < class_1 <= 300: class_1 = 2\n",
    "    if class_1 > 300: class_1 = 3\n",
    "        \n",
    "    class_2 = cac[2]\n",
    "    if 0 < class_2 <= 100: class_2 = 1\n",
    "    if 100 < class_2 <= 300: class_2 = 2\n",
    "    if class_2 > 300: class_2 = 3\n",
    "        \n",
    "    class_list.append([int(class_1), int(class_2)])\n",
    "class_list = np.array(class_list)"
   ]
  },
  {
   "cell_type": "code",
   "execution_count": 5,
   "metadata": {},
   "outputs": [
    {
     "name": "stdout",
     "output_type": "stream",
     "text": [
      "Kappa: 0.6177872074014817\n"
     ]
    }
   ],
   "source": [
    "# Calculate Cohen's Kappa\n",
    "kappa = cohen_kappa_score(class_list[:, 0], class_list[:, 1])\n",
    "print 'Kappa:', kappa"
   ]
  },
  {
   "cell_type": "code",
   "execution_count": 6,
   "metadata": {},
   "outputs": [],
   "source": [
    "# Transform results into matrix for plot\n",
    "class_matrix = np.zeros((4, 4), dtype=int)\n",
    "for i in range(class_list.shape[0]):\n",
    "    class_matrix[class_list[i, 0], class_list[i, 1]] += 1"
   ]
  },
  {
   "cell_type": "code",
   "execution_count": 7,
   "metadata": {},
   "outputs": [
    {
     "name": "stdout",
     "output_type": "stream",
     "text": [
      "Concordance rate: 0.719696969697\n"
     ]
    }
   ],
   "source": [
    "# Calculate concordance rate\n",
    "conc = 0.\n",
    "non_conc = 0.\n",
    "for y in range(class_matrix.shape[0]):\n",
    "    for x in range(class_matrix.shape[1]):\n",
    "        if y == x:\n",
    "            conc += class_matrix[y, x]\n",
    "        else:\n",
    "            non_conc += class_matrix[y, x]\n",
    "conc_rate = conc / (conc + non_conc)\n",
    "print 'Concordance rate:', conc_rate"
   ]
  },
  {
   "cell_type": "code",
   "execution_count": 12,
   "metadata": {},
   "outputs": [
    {
     "data": {
      "image/png": "[encoded data removed]",
      "text/plain": [
       "<Figure size 360x295.2 with 2 Axes>"
      ]
     },
     "metadata": {
      "needs_background": "light"
     },
     "output_type": "display_data"
    }
   ],
   "source": [
    "# Plot concordance tables\n",
    "fig, ax = plt.subplots(1, 1, figsize=(5, 4.1))\n",
    "heatmap = ax.pcolor(class_matrix, cmap=zmap, vmin=0, vmax=np.max(class_matrix))\n",
    "\n",
    "ax.set_xticks(np.arange(class_matrix.shape[1]) + 0.5, minor=False)\n",
    "ax.set_yticks(np.arange(class_matrix.shape[0]) + 0.5, minor=False)\n",
    "\n",
    "ax.invert_yaxis()\n",
    "ax.xaxis.tick_top()\n",
    "ax.xaxis.set_label_position('top')\n",
    "\n",
    "for spine in ax.spines.values():\n",
    "    spine.set_visible(False)\n",
    "\n",
    "plt.tick_params(axis='x', which='both', bottom=False, top=False)\n",
    "plt.tick_params(axis='y', which='both', left=False, right=False)\n",
    "\n",
    "ax.set_xticklabels(['Very Low','Low', 'Moderate', 'High'], minor=False)\n",
    "ax.set_yticklabels(['Very Low','Low', 'Moderate', 'High'], minor=False, rotation=90, va='center')\n",
    "\n",
    "for y in range(class_matrix.shape[0]):\n",
    "    for x in range(class_matrix.shape[1]):\n",
    "        plt.text(x + 0.5, y + 0.5, class_matrix[y, x], horizontalalignment='center',\n",
    "                 verticalalignment='center')\n",
    "\n",
    "heatmap.set_clim(vmin=0, vmax=np.max(class_matrix))\n",
    "\n",
    "cbar = plt.colorbar(heatmap)\n",
    "cbar.outline.set_visible(False)\n",
    "cbarytks = plt.getp(cbar.ax.axes, 'yticklines')\n",
    "plt.setp(cbarytks, visible=False)\n",
    "\n",
    "plt.xlabel('Expert Reader', fontsize=14, weight='medium', labelpad=10)\n",
    "plt.ylabel('Deep Learning', fontsize=14, weight='medium', labelpad=10)\n",
    "\n",
    "plt.show()\n",
    "plt.close(fig)"
   ]
  },
  {
   "cell_type": "code",
   "execution_count": null,
   "metadata": {},
   "outputs": [],
   "source": []
  },
  {
   "cell_type": "code",
   "execution_count": null,
   "metadata": {},
   "outputs": [],
   "source": []
  },
  {
   "cell_type": "code",
   "execution_count": null,
   "metadata": {},
   "outputs": [],
   "source": []
  },
  {
   "cell_type": "code",
   "execution_count": null,
   "metadata": {},
   "outputs": [],
   "source": []
  },
  {
   "cell_type": "code",
   "execution_count": null,
   "metadata": {},
   "outputs": [],
   "source": []
  },
  {
   "cell_type": "code",
   "execution_count": null,
   "metadata": {},
   "outputs": [],
   "source": []
  },
  {
   "cell_type": "code",
   "execution_count": null,
   "metadata": {},
   "outputs": [],
   "source": []
  },
  {
   "cell_type": "code",
   "execution_count": null,
   "metadata": {},
   "outputs": [],
   "source": []
  },
  {
   "cell_type": "code",
   "execution_count": null,
   "metadata": {},
   "outputs": [],
   "source": []
  },
  {
   "cell_type": "code",
   "execution_count": null,
   "metadata": {},
   "outputs": [],
   "source": []
  },
  {
   "cell_type": "code",
   "execution_count": null,
   "metadata": {},
   "outputs": [],
   "source": []
  },
  {
   "cell_type": "code",
   "execution_count": null,
   "metadata": {},
   "outputs": [],
   "source": []
  },
  {
   "cell_type": "code",
   "execution_count": null,
   "metadata": {},
   "outputs": [],
   "source": []
  }
 ],
 "metadata": {
  "kernelspec": {
   "display_name": "Python 2",
   "language": "python",
   "name": "python2"
  },
  "language_info": {
   "codemirror_mode": {
    "name": "ipython",
    "version": 2
   },
   "file_extension": ".py",
   "mimetype": "text/x-python",
   "name": "python",
   "nbconvert_exporter": "python",
   "pygments_lexer": "ipython2",
   "version": "2.7.18rc1"
  }
 },
 "nbformat": 4,
 "nbformat_minor": 2
}
